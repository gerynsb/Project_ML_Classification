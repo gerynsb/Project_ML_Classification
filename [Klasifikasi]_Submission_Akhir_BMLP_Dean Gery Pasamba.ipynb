{
 "cells": [
  {
   "cell_type": "markdown",
   "metadata": {
    "id": "fKADPWcFKlj3"
   },
   "source": [
    "# **Import Library**"
   ]
  },
  {
   "cell_type": "code",
   "execution_count": 15,
   "metadata": {
    "id": "BlmvjLY9M4Yj",
    "scrolled": true
   },
   "outputs": [],
   "source": [
    "import pandas as pd\n",
    "import numpy as np\n",
    "import seaborn as sns\n",
    "import matplotlib.pyplot as plt\n",
    "from sklearn.model_selection import train_test_split\n",
    "from sklearn.preprocessing import MinMaxScaler\n",
    "from sklearn.neighbors import KNeighborsClassifier\n",
    "from sklearn.tree import DecisionTreeClassifier\n",
    "from sklearn.ensemble import RandomForestClassifier\n",
    "from sklearn.svm import SVC\n",
    "from sklearn.naive_bayes import GaussianNB\n",
    "from sklearn.metrics import confusion_matrix, accuracy_score, precision_score, recall_score, f1_score"
   ]
  },
  {
   "cell_type": "markdown",
   "metadata": {
    "id": "f3YIEnAFKrKL"
   },
   "source": [
    "# **Memuat Dataset dari Hasil Clustering**"
   ]
  },
  {
   "cell_type": "code",
   "execution_count": 16,
   "metadata": {
    "id": "GHCGNTyrM5fS"
   },
   "outputs": [
    {
     "data": {
      "text/html": [
       "<div>\n",
       "<style scoped>\n",
       "    .dataframe tbody tr th:only-of-type {\n",
       "        vertical-align: middle;\n",
       "    }\n",
       "\n",
       "    .dataframe tbody tr th {\n",
       "        vertical-align: top;\n",
       "    }\n",
       "\n",
       "    .dataframe thead th {\n",
       "        text-align: right;\n",
       "    }\n",
       "</style>\n",
       "<table border=\"1\" class=\"dataframe\">\n",
       "  <thead>\n",
       "    <tr style=\"text-align: right;\">\n",
       "      <th></th>\n",
       "      <th>age</th>\n",
       "      <th>educational-num</th>\n",
       "      <th>hours-per-week</th>\n",
       "      <th>workclass</th>\n",
       "      <th>education</th>\n",
       "      <th>marital-status</th>\n",
       "      <th>occupation</th>\n",
       "      <th>relationship</th>\n",
       "      <th>race</th>\n",
       "      <th>gender</th>\n",
       "      <th>native-country</th>\n",
       "      <th>Cluster</th>\n",
       "    </tr>\n",
       "  </thead>\n",
       "  <tbody>\n",
       "    <tr>\n",
       "      <th>0</th>\n",
       "      <td>25.0</td>\n",
       "      <td>7</td>\n",
       "      <td>40.0</td>\n",
       "      <td>3</td>\n",
       "      <td>1</td>\n",
       "      <td>4</td>\n",
       "      <td>6</td>\n",
       "      <td>3</td>\n",
       "      <td>2</td>\n",
       "      <td>1</td>\n",
       "      <td>38</td>\n",
       "      <td>1</td>\n",
       "    </tr>\n",
       "    <tr>\n",
       "      <th>1</th>\n",
       "      <td>38.0</td>\n",
       "      <td>9</td>\n",
       "      <td>47.5</td>\n",
       "      <td>3</td>\n",
       "      <td>8</td>\n",
       "      <td>2</td>\n",
       "      <td>4</td>\n",
       "      <td>0</td>\n",
       "      <td>4</td>\n",
       "      <td>1</td>\n",
       "      <td>38</td>\n",
       "      <td>2</td>\n",
       "    </tr>\n",
       "    <tr>\n",
       "      <th>2</th>\n",
       "      <td>28.0</td>\n",
       "      <td>12</td>\n",
       "      <td>40.0</td>\n",
       "      <td>1</td>\n",
       "      <td>4</td>\n",
       "      <td>2</td>\n",
       "      <td>10</td>\n",
       "      <td>0</td>\n",
       "      <td>4</td>\n",
       "      <td>1</td>\n",
       "      <td>38</td>\n",
       "      <td>0</td>\n",
       "    </tr>\n",
       "    <tr>\n",
       "      <th>3</th>\n",
       "      <td>44.0</td>\n",
       "      <td>10</td>\n",
       "      <td>40.0</td>\n",
       "      <td>3</td>\n",
       "      <td>11</td>\n",
       "      <td>2</td>\n",
       "      <td>6</td>\n",
       "      <td>0</td>\n",
       "      <td>2</td>\n",
       "      <td>1</td>\n",
       "      <td>38</td>\n",
       "      <td>1</td>\n",
       "    </tr>\n",
       "    <tr>\n",
       "      <th>4</th>\n",
       "      <td>29.0</td>\n",
       "      <td>9</td>\n",
       "      <td>40.0</td>\n",
       "      <td>3</td>\n",
       "      <td>8</td>\n",
       "      <td>4</td>\n",
       "      <td>9</td>\n",
       "      <td>4</td>\n",
       "      <td>2</td>\n",
       "      <td>1</td>\n",
       "      <td>38</td>\n",
       "      <td>1</td>\n",
       "    </tr>\n",
       "  </tbody>\n",
       "</table>\n",
       "</div>"
      ],
      "text/plain": [
       "    age  educational-num  hours-per-week  workclass  education  \\\n",
       "0  25.0                7            40.0          3          1   \n",
       "1  38.0                9            47.5          3          8   \n",
       "2  28.0               12            40.0          1          4   \n",
       "3  44.0               10            40.0          3         11   \n",
       "4  29.0                9            40.0          3          8   \n",
       "\n",
       "   marital-status  occupation  relationship  race  gender  native-country  \\\n",
       "0               4           6             3     2       1              38   \n",
       "1               2           4             0     4       1              38   \n",
       "2               2          10             0     4       1              38   \n",
       "3               2           6             0     2       1              38   \n",
       "4               4           9             4     2       1              38   \n",
       "\n",
       "   Cluster  \n",
       "0        1  \n",
       "1        2  \n",
       "2        0  \n",
       "3        1  \n",
       "4        1  "
      ]
     },
     "execution_count": 16,
     "metadata": {},
     "output_type": "execute_result"
    }
   ],
   "source": [
    "# Memuat dataset \n",
    "data = pd.read_csv('Data_Clustering.csv')\n",
    "data.head()"
   ]
  },
  {
   "cell_type": "code",
   "execution_count": 17,
   "metadata": {
    "scrolled": true
   },
   "outputs": [
    {
     "name": "stdout",
     "output_type": "stream",
     "text": [
      "<class 'pandas.core.frame.DataFrame'>\n",
      "RangeIndex: 34000 entries, 0 to 33999\n",
      "Data columns (total 12 columns):\n",
      " #   Column           Non-Null Count  Dtype  \n",
      "---  ------           --------------  -----  \n",
      " 0   age              34000 non-null  float64\n",
      " 1   educational-num  34000 non-null  int64  \n",
      " 2   hours-per-week   34000 non-null  float64\n",
      " 3   workclass        34000 non-null  int64  \n",
      " 4   education        34000 non-null  int64  \n",
      " 5   marital-status   34000 non-null  int64  \n",
      " 6   occupation       34000 non-null  int64  \n",
      " 7   relationship     34000 non-null  int64  \n",
      " 8   race             34000 non-null  int64  \n",
      " 9   gender           34000 non-null  int64  \n",
      " 10  native-country   34000 non-null  int64  \n",
      " 11  Cluster          34000 non-null  int64  \n",
      "dtypes: float64(2), int64(10)\n",
      "memory usage: 3.1 MB\n"
     ]
    }
   ],
   "source": [
    "data.info()"
   ]
  },
  {
   "cell_type": "markdown",
   "metadata": {
    "id": "KkPem5eWL2UP"
   },
   "source": [
    "# **Data Splitting**"
   ]
  },
  {
   "cell_type": "code",
   "execution_count": 24,
   "metadata": {},
   "outputs": [
    {
     "name": "stderr",
     "output_type": "stream",
     "text": [
      "C:\\Users\\ACER\\miniconda3\\envs\\latihan\\lib\\site-packages\\sklearn\\preprocessing\\_encoders.py:975: FutureWarning: `sparse` was renamed to `sparse_output` in version 1.2 and will be removed in 1.4. `sparse_output` is ignored unless you leave `sparse` to its default value.\n",
      "  warnings.warn(\n"
     ]
    }
   ],
   "source": [
    "from sklearn.preprocessing import OneHotEncoder\n",
    "import pandas as pd\n",
    "\n",
    "# Identifikasi kolom kategori\n",
    "categorical_columns = ['workclass', 'education', 'marital-status', 'occupation', \n",
    "                       'relationship', 'race', 'gender', 'native-country']\n",
    "\n",
    "# One-hot encoding\n",
    "encoder = OneHotEncoder(sparse=False, drop='first')\n",
    "encoded_features = encoder.fit_transform(data[categorical_columns])\n",
    "\n",
    "# Gabungkan hasil encoding dengan fitur numerik\n",
    "numerical_columns = ['age', 'educational-num', 'hours-per-week']\n",
    "X = pd.concat([data[numerical_columns], \n",
    "               pd.DataFrame(encoded_features, columns=encoder.get_feature_names_out())], axis=1)"
   ]
  },
  {
   "cell_type": "code",
   "execution_count": 25,
   "metadata": {
    "id": "OubAW-7ONKVj",
    "scrolled": true
   },
   "outputs": [],
   "source": [
    "# instance MinMaxScaler \n",
    "scaler = MinMaxScaler()\n",
    "\n",
    "# Normalisasi semua kolom numeric\n",
    "numeric_columns = data.select_dtypes(include=['int64', 'float64']).columns\n",
    "data[numeric_columns] = scaler.fit_transform(data[numeric_columns])\n",
    "\n",
    "# Pisahkan fitur (X) dan target (y)\n",
    "X = data.drop(columns=['Cluster'])\n",
    "y = data['Cluster']\n",
    "\n",
    "# Split data \n",
    "X_train, X_test, y_train, y_test = train_test_split(X, y, test_size=0.2, random_state=42)"
   ]
  },
  {
   "cell_type": "code",
   "execution_count": 26,
   "metadata": {
    "id": "OubAW-7ONKVj",
    "scrolled": true
   },
   "outputs": [
    {
     "name": "stdout",
     "output_type": "stream",
     "text": [
      "Training set shape: X_train=(27200, 11), y_train=(27200,)\n",
      "Test set shape: X_test=(6800, 11), y_test=(6800,)\n"
     ]
    }
   ],
   "source": [
    "# Tampilkan hasil set pelatihan dan uji\n",
    "print(f'Training set shape: X_train={X_train.shape}, y_train={y_train.shape}')\n",
    "print(f'Test set shape: X_test={X_test.shape}, y_test={y_test.shape}')"
   ]
  },
  {
   "cell_type": "markdown",
   "metadata": {
    "id": "IVPbB03CMhTT"
   },
   "source": [
    "# **4. Membangun Model Klasifikasi**\n"
   ]
  },
  {
   "cell_type": "markdown",
   "metadata": {
    "id": "Ned1pL9zMmBK"
   },
   "source": [
    "## **a. Membangun Model Klasifikasi**"
   ]
  },
  {
   "cell_type": "markdown",
   "metadata": {
    "id": "WAWzPOE4Nkti"
   },
   "source": [
    "Setelah memilih algoritma klasifikasi yang sesuai, langkah selanjutnya adalah melatih model menggunakan data latih.\n",
    "\n",
    "Berikut adalah rekomendasi tahapannya.\n",
    "1. Pilih algoritma klasifikasi yang sesuai, seperti Logistic Regression, Decision Tree, Random Forest, atau K-Nearest Neighbors (KNN).\n",
    "2. Latih model menggunakan data latih."
   ]
  },
  {
   "cell_type": "code",
   "execution_count": 41,
   "metadata": {},
   "outputs": [
    {
     "name": "stdout",
     "output_type": "stream",
     "text": [
      "int32\n",
      "int32\n"
     ]
    }
   ],
   "source": [
    "print(y_train.dtype)\n",
    "print(y_test.dtype)"
   ]
  },
  {
   "cell_type": "code",
   "execution_count": 40,
   "metadata": {},
   "outputs": [],
   "source": [
    "# Konversi target menjadi integer\n",
    "y_train = y_train.astype(int)\n",
    "y_test = y_test.astype(int)"
   ]
  },
  {
   "cell_type": "code",
   "execution_count": 32,
   "metadata": {
    "id": "4JYxBe87NLDk"
   },
   "outputs": [
    {
     "name": "stdout",
     "output_type": "stream",
     "text": [
      "Model Training Selesai\n"
     ]
    }
   ],
   "source": [
    "# Pelatihan model menggunakan algoritma Random Forest dan SVM\n",
    "rf = RandomForestClassifier().fit(X_train, y_train)\n",
    "svm = SVC().fit(X_train, y_train)\n",
    "\n",
    "print('Model Training Selesai')"
   ]
  },
  {
   "cell_type": "markdown",
   "metadata": {
    "id": "seYoHNY3XU1y"
   },
   "source": [
    "Pada model klasifikasi ini saya menggunakan model Random Forest dan Suport Vector Machine. Saya menggunakan kedua model ini dikarenakan model ini memiliki hasil yang paling optimal dari semua contoh model yang telah disediakan dalam kelas."
   ]
  },
  {
   "cell_type": "markdown",
   "metadata": {
    "id": "ergzChZFEL-O"
   },
   "source": [
    "## **b. Evaluasi Model Klasifikasi**"
   ]
  },
  {
   "cell_type": "markdown",
   "metadata": {
    "id": "zOm68u-7NpLT"
   },
   "source": [
    "Berikut adalah **rekomendasi** tahapannya.\n",
    "1. Lakukan prediksi menggunakan data uji.\n",
    "2. Hitung metrik evaluasi seperti Accuracy dan F1-Score (Opsional: Precision dan Recall).\n",
    "3. Buat confusion matrix untuk melihat detail prediksi benar dan salah."
   ]
  },
  {
   "cell_type": "code",
   "execution_count": 42,
   "metadata": {
    "id": "tMq4QAssNLip"
   },
   "outputs": [
    {
     "name": "stdout",
     "output_type": "stream",
     "text": [
      "                          Model  Accuracy  Precision    Recall  F1-Score\n",
      "0            Random Forest (RF)  0.999118   0.998811  0.997625  0.998217\n",
      "1  Support Vector Machine (SVM)  0.998971   0.998217  0.997625  0.997921\n"
     ]
    }
   ],
   "source": [
    "# Fungsi untuk mengevaluasi dan mengembalikan hasil sebagai kamus\n",
    "def evaluate_model(model, X_test, y_test):\n",
    "    y_pred = model.predict(X_test)\n",
    "    cm = confusion_matrix(y_test, y_pred)\n",
    "    tn, fp, fn, tp = cm.ravel()\n",
    "    results = {\n",
    "        'Confusion Matrix': cm,\n",
    "        'True Positive (TP)' : tp, \n",
    "        'False Positive (FP)' : fp,\n",
    "        'False Negative (FN)' : fn,\n",
    "        'True Negative (TN)' : tn,\n",
    "        'Accuracy' : accuracy_score(y_test, y_pred),\n",
    "        'Precision' : precision_score(y_test, y_pred),\n",
    "        'Recall' : recall_score(y_test, y_pred),\n",
    "        'F1-Score' : f1_score(y_test, y_pred)\n",
    "    }\n",
    "    return results\n",
    "\n",
    "# Mengevaluasi setiap model dan mengumpulkan hasilnya\n",
    "results = {\n",
    "    'Random Forest (RF)': evaluate_model(rf, X_test, y_test),\n",
    "    'Support Vector Machine (SVM)': evaluate_model(svm, X_test, y_test)\n",
    "}\n",
    "\n",
    "# Membuat dataframe untuk meringkas hasil\n",
    "summary_df = pd.DataFrame(columns=['Model', 'Accuracy', 'Precision', 'Recall', 'F1-Score'])\n",
    "\n",
    "# Isi DataFrame\n",
    "rows = []\n",
    "for model_name, metrics in results.items():\n",
    "    rows.append({\n",
    "        'Model': model_name,\n",
    "        'Accuracy': metrics['Accuracy'],\n",
    "        'Precision': metrics['Precision'],\n",
    "        'Recall': metrics['Recall'],\n",
    "        'F1-Score': metrics['F1-Score']\n",
    "    })\n",
    "\n",
    "# Konversi daftar kamus ke DataFrame\n",
    "summary_df = pd.DataFrame(rows)\n",
    "\n",
    "# Tampilkan DataFrame\n",
    "print(summary_df)"
   ]
  },
  {
   "cell_type": "code",
   "execution_count": 43,
   "metadata": {},
   "outputs": [
    {
     "data": {
      "image/png": "[encoded data removed]",
      "text/plain": [
       "<Figure size 640x480 with 2 Axes>"
      ]
     },
     "metadata": {},
     "output_type": "display_data"
    },
    {
     "data": {
      "image/png": "[encoded data removed]",
      "text/plain": [
       "<Figure size 640x480 with 2 Axes>"
      ]
     },
     "metadata": {},
     "output_type": "display_data"
    },
    {
     "name": "stdout",
     "output_type": "stream",
     "text": [
      "Random Forest Accuracy: 0.9991176470588236\n",
      "SVM Accuracy: 0.9989705882352942\n"
     ]
    }
   ],
   "source": [
    "from sklearn.metrics import confusion_matrix, ConfusionMatrixDisplay, accuracy_score\n",
    "import matplotlib.pyplot as plt\n",
    "\n",
    "# Confusion Matrix\n",
    "cm_rf = confusion_matrix(y_test, y_pred_rf)\n",
    "cm_svm = confusion_matrix(y_test, y_pred_svm)\n",
    "\n",
    "# Visualisasi Confusion Matrix: Random Forest\n",
    "disp_rf = ConfusionMatrixDisplay(confusion_matrix=cm_rf, display_labels=rf.classes_)\n",
    "disp_rf.plot(cmap=plt.cm.Blues)\n",
    "plt.title('Confusion Matrix: Random Forest')\n",
    "plt.show()\n",
    "\n",
    "# Visualisasi Confusion Matrix: SVM\n",
    "disp_svm = ConfusionMatrixDisplay(confusion_matrix=cm_svm, display_labels=svm.classes_)\n",
    "disp_svm.plot(cmap=plt.cm.Blues)\n",
    "plt.title('Confusion Matrix: SVM')\n",
    "plt.show()"
   ]
  },
  {
   "cell_type": "markdown",
   "metadata": {
    "id": "H4_9OwrsXZlz"
   },
   "source": [
    "Dari hasil yang diperoleh algoritma Random Forest memiliki accuracy sebesar 99,91% dan F1-Score 99,82% yang menunjukkan kemampuan yang sangat baik dalam melakukan klasifikasi. Pada Confusion matrix dapat . Hal ini juga dinampakkan pada algoritma SVM yang menujukkan hasil 99,89% accuracy dan F1-Score 99,79%. "
   ]
  },
  {
   "cell_type": "markdown",
   "metadata": {
    "id": "ph9yIYDXEPuB"
   },
   "source": [
    "## **c. Tuning Model Klasifikasi (Optional)**"
   ]
  },
  {
   "cell_type": "markdown",
   "metadata": {
    "id": "-Bikx3LINv5e"
   },
   "source": [
    "Gunakan GridSearchCV, RandomizedSearchCV, atau metode lainnya untuk mencari kombinasi hyperparameter terbaik"
   ]
  },
  {
   "cell_type": "code",
   "execution_count": null,
   "metadata": {
    "id": "winbFzb8NL95"
   },
   "outputs": [],
   "source": [
    "#Type your code here"
   ]
  },
  {
   "cell_type": "markdown",
   "metadata": {
    "id": "hE7pqlEPEYzI"
   },
   "source": [
    "## **d. Evaluasi Model Klasifikasi setelah Tuning (Optional)**"
   ]
  },
  {
   "cell_type": "markdown",
   "metadata": {
    "id": "feaPESoeN0zz"
   },
   "source": [
    "Berikut adalah rekomendasi tahapannya.\n",
    "1. Gunakan model dengan hyperparameter terbaik.\n",
    "2. Hitung ulang metrik evaluasi untuk melihat apakah ada peningkatan performa."
   ]
  },
  {
   "cell_type": "code",
   "execution_count": null,
   "metadata": {
    "id": "HTXZRvEeNMb1"
   },
   "outputs": [],
   "source": [
    "#Type your code here"
   ]
  },
  {
   "cell_type": "markdown",
   "metadata": {
    "id": "ZRsOdm4uEgAW"
   },
   "source": [
    "## **e. Analisis Hasil Evaluasi Model Klasifikasi**"
   ]
  },
  {
   "cell_type": "markdown",
   "metadata": {
    "id": "Hm3BhSi6N4_l"
   },
   "source": [
    "Berikut adalah **rekomendasi** tahapannya.\n",
    "1. Bandingkan hasil evaluasi sebelum dan setelah tuning (jika dilakukan).\n",
    "2. Identifikasi kelemahan model, seperti:\n",
    "  - Precision atau Recall rendah untuk kelas tertentu.\n",
    "  - Apakah model mengalami overfitting atau underfitting?\n",
    "3. Berikan rekomendasi tindakan lanjutan, seperti mengumpulkan data tambahan atau mencoba algoritma lain jika hasil belum memuaskan."
   ]
  }
 ],
 "metadata": {
  "colab": {
   "provenance": []
  },
  "kernelspec": {
   "display_name": "Python 3 (ipykernel)",
   "language": "python",
   "name": "python3"
  },
  "language_info": {
   "codemirror_mode": {
    "name": "ipython",
    "version": 3
   },
   "file_extension": ".py",
   "mimetype": "text/x-python",
   "name": "python",
   "nbconvert_exporter": "python",
   "pygments_lexer": "ipython3",
   "version": "3.8.17"
  }
 },
 "nbformat": 4,
 "nbformat_minor": 4
}
